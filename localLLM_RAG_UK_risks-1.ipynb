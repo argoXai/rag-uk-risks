{
 "cells": [
  {
   "cell_type": "markdown",
   "metadata": {},
   "source": [
    "# Ollama setup"
   ]
  },
  {
   "cell_type": "code",
   "execution_count": 11,
   "metadata": {},
   "outputs": [],
   "source": [
    "from transformers import LlamaTokenizer\n",
    "from langchain_community.llms import Ollama\n",
    "from utils import process_company\n",
    "from langchain_core.prompts import ChatPromptTemplate, MessagesPlaceholder"
   ]
  },
  {
   "cell_type": "markdown",
   "metadata": {},
   "source": [
    "This setup requires Ollama to be running on the local machine first.   \n",
    "\n",
    "Instructions:   \n",
    "https://github.com/ollama/ollama"
   ]
  },
  {
   "cell_type": "markdown",
   "metadata": {},
   "source": [
    "## load text file"
   ]
  },
  {
   "cell_type": "code",
   "execution_count": 2,
   "metadata": {},
   "outputs": [],
   "source": [
    "company_number = 1812\n",
    "company_number = str(company_number)\n",
    "\n",
    "text_path = f\"{company_number}.txt\""
   ]
  },
  {
   "cell_type": "markdown",
   "metadata": {},
   "source": [
    "# Langchain"
   ]
  },
  {
   "cell_type": "markdown",
   "metadata": {},
   "source": [
    "## Prompts"
   ]
  },
  {
   "cell_type": "code",
   "execution_count": 17,
   "metadata": {},
   "outputs": [],
   "source": [
    "# parser = JsonOutputParser(pydantic_object=ExtractionData)\n",
    "\n",
    "prompt = ChatPromptTemplate.from_messages(\n",
    "    [\n",
    "        (\n",
    "            \"system\",\n",
    "                   f\"\"\"\n",
    "                    The FAISS retriever is from a company filing of the comopany house UK.\n",
    "                    Your task is to identify all the companies principal risks.\n",
    "                    Include all the text exactly as it appears on the document with a detailed description of the risks.\n",
    "                    Search the whole text and identify all risk factors. Take all the time that you need.\n",
    "                    Output the results.\n",
    "                    Do not ask anything back. Just a single response\n",
    "                    \"\"\",\n",
    "        ),\n",
    "        # MessagesPlaceholder('examples'), # Keep on reading through this use case to see how to use examples to improve performance\n",
    "        (\"human\", \"{text}\"),\n",
    "    ]\n",
    ")\n",
    "\n",
    "\n",
    "user_prompt =  f\"\"\"\n",
    "    The text in the FAISS database is from a company filing of the comopany house UK.\n",
    "    Your task is to identify all the companies principal risks.\n",
    "    Search the whole text and identify all risk factors.\n",
    "    Output the results.\n",
    "    Include all the text exactly as it appears on the document.\n",
    "    Do not ask anything back. Just a single response\n",
    "\"\"\""
   ]
  },
  {
   "cell_type": "markdown",
   "metadata": {},
   "source": [
    "## Mistral"
   ]
  },
  {
   "cell_type": "code",
   "execution_count": 18,
   "metadata": {},
   "outputs": [
    {
     "name": "stderr",
     "output_type": "stream",
     "text": [
      "/Users/paulbessone/anaconda3/envs/llm/lib/python3.12/site-packages/huggingface_hub/file_download.py:1132: FutureWarning: `resume_download` is deprecated and will be removed in version 1.0.0. Downloads always resume when possible. If you want to force a new download, use `force_download=True`.\n",
      "  warnings.warn(\n"
     ]
    },
    {
     "name": "stdout",
     "output_type": "stream",
     "text": [
      "Processed company 1812.\n",
      "\n",
      "Results from Mistral:\n",
      "\n",
      " The identified risk factors from the provided document are as follows:\n",
      "\n",
      "1. Competitive Risk: This risk is directly linked to the success of the wider group and is mainly associated with the design provider offering design services to other group entities under an agreement which provides for a mark-up on operating costs, minimizing the previously associated competitive risks. The service provided to third parties are comparatively minimal further decreasing the competitive risks.\n",
      "\n",
      "2. Financial Risk Management: This risk covers exposure to foreign currency, credit and liquidity risk. As at the end of the reporting period, the Group and Company had variable rate borrowings outstanding.\n",
      "\n",
      "3. Maturity Risks (implicit in the financial risk management section): The maturity analysis is provided in note 9, where the Group Company has variable rate borrowings outstanding.\n",
      "\n",
      "4. Other potential risks not explicitly mentioned but could be inferred from the document include operational risks, regulatory risks, and strategic risks. However, these risks are not explicitly stated in the provided text.\n"
     ]
    }
   ],
   "source": [
    "# Set parameters to make the model deterministic\n",
    "temperature = 0\n",
    "top_p = 0\n",
    "llm = Ollama(\n",
    "    model = 'mistral',\n",
    "    temperature = temperature,\n",
    "    top_p = top_p,\n",
    "    ) \n",
    "\n",
    "extractor = prompt | llm \n",
    "\n",
    "######################## Process ########################\n",
    "#########################################################\n",
    "\n",
    "\n",
    "results = process_company(\n",
    "    company_number= company_number,\n",
    "    user_prompt= user_prompt,\n",
    "    extractor= extractor,\n",
    "     \n",
    ")\n",
    "\n",
    "print()\n",
    "print(f\"Results from Mistral:\")\n",
    "print()\n",
    "\n",
    "print(results[company_number])"
   ]
  },
  {
   "cell_type": "markdown",
   "metadata": {},
   "source": [
    "## LLama3"
   ]
  },
  {
   "cell_type": "code",
   "execution_count": 19,
   "metadata": {},
   "outputs": [
    {
     "name": "stderr",
     "output_type": "stream",
     "text": [
      "/Users/paulbessone/anaconda3/envs/llm/lib/python3.12/site-packages/huggingface_hub/file_download.py:1132: FutureWarning: `resume_download` is deprecated and will be removed in version 1.0.0. Downloads always resume when possible. If you want to force a new download, use `force_download=True`.\n",
      "  warnings.warn(\n"
     ]
    },
    {
     "name": "stdout",
     "output_type": "stream",
     "text": [
      "Processed company 1812.\n",
      "\n",
      "Results from Llama3:\n",
      "\n",
      "Based on the provided documents, I have identified the following principal risks and uncertainties facing the company:\n",
      "\n",
      "1. **Competitive risk**: The company is a design provider and faces competitive risks due to its reliance on providing design services to other group entities under an agreement that provides for a mark-up on operating costs. This risk is considered to be directly linked to the success of the wider group.\n",
      "\n",
      "Description: The company's primary source of revenue comes from providing design services to other group entities, which exposes it to competitive risks. The company's ability to maintain its market share and pricing power depends on its ability to deliver high-quality designs and services that meet the needs of its clients.\n",
      "\n",
      "2. **Financial risk management**: The company faces financial risks related to foreign currency, credit, and liquidity risks.\n",
      "\n",
      "Description: The company has variable rate borrowings outstanding, which exposes it to interest rate risk. Additionally, the company's operations are conducted in multiple currencies, which exposes it to foreign exchange risk. The company also relies on external funding sources, which increases its credit risk. Finally, the company's ability to meet its financial obligations depends on its liquidity position.\n",
      "\n",
      "3. **Credit risk**: The company faces credit risks due to its reliance on external funding sources and variable rate borrowings.\n",
      "\n",
      "Description: The company's creditworthiness is dependent on its ability to generate cash flows and maintain a strong balance sheet. Any deterioration in the company's creditworthiness could impact its access to capital markets and increase its borrowing costs.\n",
      "\n",
      "4. **Liquidity risk**: The company faces liquidity risks due to its reliance on external funding sources and variable rate borrowings.\n",
      "\n",
      "Description: The company's ability to meet its financial obligations depends on its liquidity position. Any unexpected changes in the company's cash flows or funding requirements could impact its ability to meet its short-term obligations.\n",
      "\n",
      "5. **Foreign exchange risk**: The company faces foreign exchange risks due to its operations being conducted in multiple currencies.\n",
      "\n",
      "Description: The company's exposure to foreign exchange risks arises from its transactions denominated in currencies other than its functional currency. Any changes in exchange rates could impact the company's revenue, expenses, and profitability.\n",
      "\n",
      "6. **Interest rate risk**: The company faces interest rate risks due to its variable rate borrowings.\n",
      "\n",
      "Description: The company's exposure to interest rate risks arises from its variable rate borrowings. Any changes in interest rates could impact the company's borrowing costs and cash flows.\n",
      "\n",
      "These principal risks and uncertainties are considered material and require careful management by the company's senior management committee, which meets monthly to evaluate the company's risks and consider mitigating actions required to manage risk within the agreed risk appetite.\n"
     ]
    }
   ],
   "source": [
    "# Set parameters to make the model deterministic\n",
    "temperature = 0\n",
    "top_p = 0\n",
    "llm = Ollama(\n",
    "    model = 'llama3',\n",
    "    temperature = temperature,\n",
    "    top_p = top_p,\n",
    "    ) \n",
    "\n",
    "extractor = prompt | llm \n",
    "\n",
    "######################## Process ########################\n",
    "#########################################################\n",
    "\n",
    "results = process_company(\n",
    "    company_number= company_number,\n",
    "    user_prompt= user_prompt,\n",
    "    extractor= extractor \n",
    ")\n",
    "\n",
    "print()\n",
    "print(f\"Results from Llama3:\")\n",
    "print()\n",
    "\n",
    "print(results[company_number])"
   ]
  }
 ],
 "metadata": {
  "kernelspec": {
   "display_name": "llm",
   "language": "python",
   "name": "python3"
  },
  "language_info": {
   "codemirror_mode": {
    "name": "ipython",
    "version": 3
   },
   "file_extension": ".py",
   "mimetype": "text/x-python",
   "name": "python",
   "nbconvert_exporter": "python",
   "pygments_lexer": "ipython3",
   "version": "3.12.0"
  }
 },
 "nbformat": 4,
 "nbformat_minor": 2
}
